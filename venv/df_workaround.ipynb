{
 "cells": [
  {
   "cell_type": "code",
   "execution_count": null,
   "metadata": {
    "collapsed": false
   },
   "outputs": [],
   "source": [
    "import pandas as pd\n",
    "import numpy as np\n",
    "from pandas.io.json import json_normalize\n",
    "from flatten_json import flatten\n",
    "import ast\n",
    "import json\n",
    "import glob\n",
    "filenames = glob.glob(\"/home/az/dev/atvisor/Test1-20180820/out_file_mappings_*.json\")\n",
    "appended_data = []\n",
    "for file in filenames:\n",
    "    f = open(file, 'r')\n",
    "    d = json.loads(f.read())\n",
    "    df = json_normalize(d)\n",
    "    df = df.fillna(method='ffill')\n",
    "    df = df.dropna()\n",
    "    storage = []\n",
    "    for x in range(len(df['included_symptoms'].tolist()[0])):\n",
    "        included_symptoms_data = df['included_symptoms'].tolist()[0][x]\n",
    "        #print(included_symptoms_Falsedata['bf'], included_symptoms_data['bs'])\n",
    "        severity = included_symptoms_data['sev']\n",
    "        #print(included_symptoms_data['bf'])\n",
    "        location = included_symptoms_data['loc']\n",
    "        storage+=[{\"bf\":included_symptoms_data['bf'],\n",
    "                   \"bs\" : included_symptoms_data['bs'],\n",
    "                    \"sev\": severity,\n",
    "                   \"loc\": location}] #maybe add loc as a dict as well\n",
    "    test = pd.DataFrame(storage)\n",
    "    s = test['sev'].apply(ast.literal_eval)\n",
    "    s1 = test['loc'].apply(ast.literal_eval)\n",
    "    df1 = pd.concat([pd.DataFrame(x) for x in s], keys=s.index)\n",
    "    df2 = pd.concat([pd.DataFrame(x) for x in s1], keys = s1.index).drop('title', 1).rename({'value': 'loc_value'}, axis = 1)\n",
    "    test = test.drop('sev', 1).join(df1.reset_index(level=1, drop=True)).reset_index(drop=True)\n",
    "    \n",
    "    df_new = test.drop('loc',1).drop('title', 1).rename({'value':'sev_value'}, axis=1)\n",
    "    df_new = df_new.join(df2.reset_index(level = 1, drop = True)).reset_index(drop = True)\n",
    "    appended_data.append(df_new)\n",
    "appended_data = pd.concat(appended_data, axis = 0)\n",
    "appended_data.to_csv('appended.csv')\n",
    "\n",
    "\n",
    "\n",
    "\n"
   ]
  }
 ],
 "metadata": {
  "kernelspec": {
   "display_name": "Python 2",
   "language": "python",
   "name": "python2"
  },
  "language_info": {
   "codemirror_mode": {
    "name": "ipython",
    "version": 2
   },
   "file_extension": ".py",
   "mimetype": "text/x-python",
   "name": "python",
   "nbconvert_exporter": "python",
   "pygments_lexer": "ipython2",
   "version": "2.7.6"
  }
 },
 "nbformat": 4,
 "nbformat_minor": 0
}
