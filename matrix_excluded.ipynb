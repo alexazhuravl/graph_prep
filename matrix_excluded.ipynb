{
 "cells": [
  {
   "cell_type": "code",
   "execution_count": null,
   "metadata": {
    "collapsed": true
   },
   "outputs": [],
   "source": [
    "import ast\n",
    "import glob\n",
    "import json\n",
    "\n",
    "import numpy as np\n",
    "import pandas as pd\n",
    "from flatten_json import flatten\n",
    "from pandas.io.json import json_normalize\n",
    "\n",
    "filenames = glob.glob(\"/path/to/files/out_file_mappings_*.json\")\n",
    "appended_data = []\n",
    "for file in filenames:\n",
    "    f = open(file, 'r')\n",
    "    d = json.loads(f.read())\n",
    "    df = json_normalize(d)\n",
    "    df = df.fillna(method='ffill')\n",
    "    df = df.dropna()\n",
    "    storage = []\n",
    "    if 'excluded_symptoms' in df:\n",
    "        for x in range(len(df['excluded_symptoms'].tolist()[0])):\n",
    "            excluded_symptoms_data = df['excluded_symptoms'].tolist()[0][x]  # change to excluded or included symptoms\n",
    "            severity = excluded_symptoms_data['sev']\n",
    "            location = excluded_symptoms_data['loc']\n",
    "            storage += [{\"bf\": excluded_symptoms_data['bf'],\n",
    "                         \"bs\": excluded_symptoms_data['bs'],\n",
    "                         \"sev\": severity,\n",
    "                         \"loc\": location,\n",
    "                         \"mappings\": filenames[x][54:58]}]\n",
    "        test = pd.DataFrame(storage)\n",
    "        if 'sev' in test:\n",
    "            s = test['sev'].apply(ast.literal_eval)\n",
    "            s1 = test['loc'].apply(ast.literal_eval)\n",
    "            df1 = pd.concat([pd.DataFrame(x) for x in s], keys=s.index)\n",
    "            df2 = pd.concat([pd.DataFrame(x) for x in s1], keys=s1.index).drop('title', 1).rename(\n",
    "                {'value': 'loc_value'},\n",
    "                axis=1)\n",
    "            test = test.drop('sev', 1).join(df1.reset_index(level=1, drop=True)).reset_index(drop=True)\n",
    "\n",
    "            df_new = test.drop('loc', 1).drop('title', 1).rename({'value': 'sev_value'}, axis=1)\n",
    "            df_new = df_new.join(df2.reset_index(level=1, drop=True)).reset_index(drop=True)\n",
    "        appended_data.append(df_new)\n",
    "appended_data = pd.concat(appended_data, axis=0)\n",
    "appended_data.to_csv('appended_mappings_excl.csv')\n",
    "\n",
    "excluded = appended_data.drop_duplicates(appended_data.columns.difference(['mappings']))\n",
    "excluded.to_csv('excluded_mappings_data.csv')\n",
    "\n",
    "head_mappings = set(excluded['mappings'].values)\n",
    "data = excluded['mappings']\n",
    "test_new = pd.DataFrame(columns=head_mappings)\n",
    "test_new['mappings'] = excluded['mappings'].values\n",
    "test_new = test_new.set_index('mappings')\n",
    "\n",
    "test_new.index.values\n",
    "for y in test_new.index.values.tolist():\n",
    "    for x in list(test_new):\n",
    "        if x == y:\n",
    "            test_new.loc[x, y] = 1\n",
    "        else:\n",
    "            test_new.loc[x, y] = 0\n",
    "\n",
    "test_new.to_csv('matrix_excluded_mappings.csv')\n",
    "\n"
   ]
  }
 ],
 "metadata": {
  "kernelspec": {
   "display_name": "Python 2",
   "language": "python",
   "name": "python2"
  },
  "language_info": {
   "codemirror_mode": {
    "name": "ipython",
    "version": 2
   },
   "file_extension": ".py",
   "mimetype": "text/x-python",
   "name": "python",
   "nbconvert_exporter": "python",
   "pygments_lexer": "ipython2",
   "version": "2.7.6"
  }
 },
 "nbformat": 4,
 "nbformat_minor": 0
}
